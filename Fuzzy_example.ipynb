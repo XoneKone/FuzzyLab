{
 "cells": [
  {
   "cell_type": "code",
   "execution_count": 26,
   "id": "fc4640ba",
   "metadata": {},
   "outputs": [],
   "source": [
    "import numpy as np\n",
    "import skfuzzy as fuzz\n",
    "import pandas as pd\n",
    "import sqlite3 \n",
    "from skfuzzy import control as ctrl"
   ]
  },
  {
   "cell_type": "code",
   "execution_count": 27,
   "id": "7f70acc4",
   "metadata": {},
   "outputs": [],
   "source": [
    "data = pd.read_csv('data.csv', delimiter=',')"
   ]
  },
  {
   "cell_type": "code",
   "execution_count": 28,
   "id": "21f038fc",
   "metadata": {},
   "outputs": [
    {
     "data": {
      "text/html": [
       "<div>\n",
       "<style scoped>\n",
       "    .dataframe tbody tr th:only-of-type {\n",
       "        vertical-align: middle;\n",
       "    }\n",
       "\n",
       "    .dataframe tbody tr th {\n",
       "        vertical-align: top;\n",
       "    }\n",
       "\n",
       "    .dataframe thead th {\n",
       "        text-align: right;\n",
       "    }\n",
       "</style>\n",
       "<table border=\"1\" class=\"dataframe\">\n",
       "  <thead>\n",
       "    <tr style=\"text-align: right;\">\n",
       "      <th></th>\n",
       "      <th>age</th>\n",
       "      <th>blood_sugar_level</th>\n",
       "      <th>amount_of_carbohydrates</th>\n",
       "      <th>mass_indexes</th>\n",
       "      <th>risk_of_diabetes</th>\n",
       "    </tr>\n",
       "  </thead>\n",
       "  <tbody>\n",
       "    <tr>\n",
       "      <th>0</th>\n",
       "      <td>6.0</td>\n",
       "      <td>5.00</td>\n",
       "      <td>0.44</td>\n",
       "      <td>20.23</td>\n",
       "      <td>9.64</td>\n",
       "    </tr>\n",
       "    <tr>\n",
       "      <th>1</th>\n",
       "      <td>10.0</td>\n",
       "      <td>6.23</td>\n",
       "      <td>0.23</td>\n",
       "      <td>34.47</td>\n",
       "      <td>86.10</td>\n",
       "    </tr>\n",
       "    <tr>\n",
       "      <th>2</th>\n",
       "      <td>12.0</td>\n",
       "      <td>3.90</td>\n",
       "      <td>0.36</td>\n",
       "      <td>23.65</td>\n",
       "      <td>43.24</td>\n",
       "    </tr>\n",
       "    <tr>\n",
       "      <th>3</th>\n",
       "      <td>17.0</td>\n",
       "      <td>5.34</td>\n",
       "      <td>0.67</td>\n",
       "      <td>13.46</td>\n",
       "      <td>50.52</td>\n",
       "    </tr>\n",
       "    <tr>\n",
       "      <th>4</th>\n",
       "      <td>20.0</td>\n",
       "      <td>4.24</td>\n",
       "      <td>0.11</td>\n",
       "      <td>27.32</td>\n",
       "      <td>91.41</td>\n",
       "    </tr>\n",
       "    <tr>\n",
       "      <th>5</th>\n",
       "      <td>30.0</td>\n",
       "      <td>6.66</td>\n",
       "      <td>0.76</td>\n",
       "      <td>34.37</td>\n",
       "      <td>76.66</td>\n",
       "    </tr>\n",
       "    <tr>\n",
       "      <th>6</th>\n",
       "      <td>34.0</td>\n",
       "      <td>4.79</td>\n",
       "      <td>0.08</td>\n",
       "      <td>38.32</td>\n",
       "      <td>18.79</td>\n",
       "    </tr>\n",
       "    <tr>\n",
       "      <th>7</th>\n",
       "      <td>42.0</td>\n",
       "      <td>5.24</td>\n",
       "      <td>0.91</td>\n",
       "      <td>22.37</td>\n",
       "      <td>61.31</td>\n",
       "    </tr>\n",
       "    <tr>\n",
       "      <th>8</th>\n",
       "      <td>50.0</td>\n",
       "      <td>2.57</td>\n",
       "      <td>0.55</td>\n",
       "      <td>24.35</td>\n",
       "      <td>70.04</td>\n",
       "    </tr>\n",
       "    <tr>\n",
       "      <th>9</th>\n",
       "      <td>61.0</td>\n",
       "      <td>3.02</td>\n",
       "      <td>0.18</td>\n",
       "      <td>55.00</td>\n",
       "      <td>21.40</td>\n",
       "    </tr>\n",
       "    <tr>\n",
       "      <th>10</th>\n",
       "      <td>15.0</td>\n",
       "      <td>1.20</td>\n",
       "      <td>0.11</td>\n",
       "      <td>50.00</td>\n",
       "      <td>81.40</td>\n",
       "    </tr>\n",
       "    <tr>\n",
       "      <th>11</th>\n",
       "      <td>40.0</td>\n",
       "      <td>1.87</td>\n",
       "      <td>0.04</td>\n",
       "      <td>36.29</td>\n",
       "      <td>69.15</td>\n",
       "    </tr>\n",
       "    <tr>\n",
       "      <th>12</th>\n",
       "      <td>65.0</td>\n",
       "      <td>3.97</td>\n",
       "      <td>0.19</td>\n",
       "      <td>49.82</td>\n",
       "      <td>39.86</td>\n",
       "    </tr>\n",
       "    <tr>\n",
       "      <th>13</th>\n",
       "      <td>31.0</td>\n",
       "      <td>2.20</td>\n",
       "      <td>0.55</td>\n",
       "      <td>29.11</td>\n",
       "      <td>63.82</td>\n",
       "    </tr>\n",
       "    <tr>\n",
       "      <th>14</th>\n",
       "      <td>59.0</td>\n",
       "      <td>3.59</td>\n",
       "      <td>0.70</td>\n",
       "      <td>34.12</td>\n",
       "      <td>68.49</td>\n",
       "    </tr>\n",
       "    <tr>\n",
       "      <th>15</th>\n",
       "      <td>26.0</td>\n",
       "      <td>4.76</td>\n",
       "      <td>0.40</td>\n",
       "      <td>29.40</td>\n",
       "      <td>87.49</td>\n",
       "    </tr>\n",
       "    <tr>\n",
       "      <th>16</th>\n",
       "      <td>31.0</td>\n",
       "      <td>4.34</td>\n",
       "      <td>0.03</td>\n",
       "      <td>46.18</td>\n",
       "      <td>83.46</td>\n",
       "    </tr>\n",
       "    <tr>\n",
       "      <th>17</th>\n",
       "      <td>38.0</td>\n",
       "      <td>4.41</td>\n",
       "      <td>0.57</td>\n",
       "      <td>32.42</td>\n",
       "      <td>95.97</td>\n",
       "    </tr>\n",
       "    <tr>\n",
       "      <th>18</th>\n",
       "      <td>23.0</td>\n",
       "      <td>4.12</td>\n",
       "      <td>0.96</td>\n",
       "      <td>43.48</td>\n",
       "      <td>91.18</td>\n",
       "    </tr>\n",
       "    <tr>\n",
       "      <th>19</th>\n",
       "      <td>33.0</td>\n",
       "      <td>2.03</td>\n",
       "      <td>0.34</td>\n",
       "      <td>47.88</td>\n",
       "      <td>47.32</td>\n",
       "    </tr>\n",
       "    <tr>\n",
       "      <th>20</th>\n",
       "      <td>53.0</td>\n",
       "      <td>3.76</td>\n",
       "      <td>0.87</td>\n",
       "      <td>38.18</td>\n",
       "      <td>11.97</td>\n",
       "    </tr>\n",
       "    <tr>\n",
       "      <th>21</th>\n",
       "      <td>55.0</td>\n",
       "      <td>3.70</td>\n",
       "      <td>0.22</td>\n",
       "      <td>46.01</td>\n",
       "      <td>79.93</td>\n",
       "    </tr>\n",
       "    <tr>\n",
       "      <th>22</th>\n",
       "      <td>11.0</td>\n",
       "      <td>2.61</td>\n",
       "      <td>0.31</td>\n",
       "      <td>30.69</td>\n",
       "      <td>6.65</td>\n",
       "    </tr>\n",
       "    <tr>\n",
       "      <th>23</th>\n",
       "      <td>51.0</td>\n",
       "      <td>2.54</td>\n",
       "      <td>0.19</td>\n",
       "      <td>35.52</td>\n",
       "      <td>26.46</td>\n",
       "    </tr>\n",
       "    <tr>\n",
       "      <th>24</th>\n",
       "      <td>35.0</td>\n",
       "      <td>4.23</td>\n",
       "      <td>0.01</td>\n",
       "      <td>21.35</td>\n",
       "      <td>39.65</td>\n",
       "    </tr>\n",
       "    <tr>\n",
       "      <th>25</th>\n",
       "      <td>82.0</td>\n",
       "      <td>2.43</td>\n",
       "      <td>0.67</td>\n",
       "      <td>29.06</td>\n",
       "      <td>53.72</td>\n",
       "    </tr>\n",
       "    <tr>\n",
       "      <th>26</th>\n",
       "      <td>49.0</td>\n",
       "      <td>3.32</td>\n",
       "      <td>0.82</td>\n",
       "      <td>34.30</td>\n",
       "      <td>76.47</td>\n",
       "    </tr>\n",
       "    <tr>\n",
       "      <th>27</th>\n",
       "      <td>22.0</td>\n",
       "      <td>2.27</td>\n",
       "      <td>0.07</td>\n",
       "      <td>25.63</td>\n",
       "      <td>87.77</td>\n",
       "    </tr>\n",
       "    <tr>\n",
       "      <th>28</th>\n",
       "      <td>30.0</td>\n",
       "      <td>4.14</td>\n",
       "      <td>0.32</td>\n",
       "      <td>46.52</td>\n",
       "      <td>15.16</td>\n",
       "    </tr>\n",
       "    <tr>\n",
       "      <th>29</th>\n",
       "      <td>29.0</td>\n",
       "      <td>3.89</td>\n",
       "      <td>0.25</td>\n",
       "      <td>39.27</td>\n",
       "      <td>80.72</td>\n",
       "    </tr>\n",
       "    <tr>\n",
       "      <th>30</th>\n",
       "      <td>24.0</td>\n",
       "      <td>3.70</td>\n",
       "      <td>0.32</td>\n",
       "      <td>36.94</td>\n",
       "      <td>23.12</td>\n",
       "    </tr>\n",
       "  </tbody>\n",
       "</table>\n",
       "</div>"
      ],
      "text/plain": [
       "     age  blood_sugar_level  amount_of_carbohydrates  mass_indexes  \\\n",
       "0    6.0               5.00                     0.44         20.23   \n",
       "1   10.0               6.23                     0.23         34.47   \n",
       "2   12.0               3.90                     0.36         23.65   \n",
       "3   17.0               5.34                     0.67         13.46   \n",
       "4   20.0               4.24                     0.11         27.32   \n",
       "5   30.0               6.66                     0.76         34.37   \n",
       "6   34.0               4.79                     0.08         38.32   \n",
       "7   42.0               5.24                     0.91         22.37   \n",
       "8   50.0               2.57                     0.55         24.35   \n",
       "9   61.0               3.02                     0.18         55.00   \n",
       "10  15.0               1.20                     0.11         50.00   \n",
       "11  40.0               1.87                     0.04         36.29   \n",
       "12  65.0               3.97                     0.19         49.82   \n",
       "13  31.0               2.20                     0.55         29.11   \n",
       "14  59.0               3.59                     0.70         34.12   \n",
       "15  26.0               4.76                     0.40         29.40   \n",
       "16  31.0               4.34                     0.03         46.18   \n",
       "17  38.0               4.41                     0.57         32.42   \n",
       "18  23.0               4.12                     0.96         43.48   \n",
       "19  33.0               2.03                     0.34         47.88   \n",
       "20  53.0               3.76                     0.87         38.18   \n",
       "21  55.0               3.70                     0.22         46.01   \n",
       "22  11.0               2.61                     0.31         30.69   \n",
       "23  51.0               2.54                     0.19         35.52   \n",
       "24  35.0               4.23                     0.01         21.35   \n",
       "25  82.0               2.43                     0.67         29.06   \n",
       "26  49.0               3.32                     0.82         34.30   \n",
       "27  22.0               2.27                     0.07         25.63   \n",
       "28  30.0               4.14                     0.32         46.52   \n",
       "29  29.0               3.89                     0.25         39.27   \n",
       "30  24.0               3.70                     0.32         36.94   \n",
       "\n",
       "    risk_of_diabetes  \n",
       "0               9.64  \n",
       "1              86.10  \n",
       "2              43.24  \n",
       "3              50.52  \n",
       "4              91.41  \n",
       "5              76.66  \n",
       "6              18.79  \n",
       "7              61.31  \n",
       "8              70.04  \n",
       "9              21.40  \n",
       "10             81.40  \n",
       "11             69.15  \n",
       "12             39.86  \n",
       "13             63.82  \n",
       "14             68.49  \n",
       "15             87.49  \n",
       "16             83.46  \n",
       "17             95.97  \n",
       "18             91.18  \n",
       "19             47.32  \n",
       "20             11.97  \n",
       "21             79.93  \n",
       "22              6.65  \n",
       "23             26.46  \n",
       "24             39.65  \n",
       "25             53.72  \n",
       "26             76.47  \n",
       "27             87.77  \n",
       "28             15.16  \n",
       "29             80.72  \n",
       "30             23.12  "
      ]
     },
     "execution_count": 28,
     "metadata": {},
     "output_type": "execute_result"
    }
   ],
   "source": [
    "data"
   ]
  },
  {
   "cell_type": "code",
   "execution_count": 29,
   "id": "0cafae94",
   "metadata": {
    "scrolled": true
   },
   "outputs": [],
   "source": [
    "# Среднее значение для каждого из столбцов\n",
    "mean_age = data['age'].drop_duplicates().mean()\n",
    "mean_bsl = data['blood_sugar_level'].drop_duplicates().mean()\n",
    "mean_aoc = data['amount_of_carbohydrates'].drop_duplicates().mean()\n",
    "mean_mi = data['mass_indexes'].drop_duplicates().mean()\n",
    "mean_rd = data['risk_of_diabetes'].drop_duplicates().mean()"
   ]
  },
  {
   "cell_type": "code",
   "execution_count": 30,
   "id": "5444a797",
   "metadata": {},
   "outputs": [],
   "source": [
    "#Стандартное отклонение для каждого из столбцов\n",
    "std_age = data['age'].drop_duplicates().std()\n",
    "std_bsl = data['blood_sugar_level'].drop_duplicates().std()\n",
    "std_aoc = data['amount_of_carbohydrates'].drop_duplicates().std()\n",
    "std_mi = data['mass_indexes'].drop_duplicates().std()\n",
    "std_rd = data['risk_of_diabetes'].drop_duplicates().std()"
   ]
  },
  {
   "cell_type": "code",
   "execution_count": 31,
   "id": "d4c769e6",
   "metadata": {},
   "outputs": [],
   "source": [
    "age_data = pd.Series(data['age'].drop_duplicates().sort_values().tolist())\n",
    "bsl_data = pd.Series(data['blood_sugar_level'].drop_duplicates().sort_values().tolist())\n",
    "aoc_data = pd.Series(data['amount_of_carbohydrates'].drop_duplicates().sort_values().tolist())\n",
    "mi_data = pd.Series(data['mass_indexes'].drop_duplicates().sort_values().tolist())\n",
    "rd_data =pd.Series(data['risk_of_diabetes'].drop_duplicates().sort_values().tolist())"
   ]
  },
  {
   "cell_type": "code",
   "execution_count": 32,
   "id": "f44cfc86",
   "metadata": {},
   "outputs": [],
   "source": [
    "age = ctrl.Antecedent(age_data, 'age')\n",
    "\n",
    "blood_sugar_level = ctrl.Antecedent(bsl_data, 'blood_sugar_level')\n",
    "\n",
    "amount_of_carbohydrates = ctrl.Antecedent(aoc_data, 'amount_of_carbohydrates')\n",
    "\n",
    "mass_indexes= ctrl.Antecedent(mi_data, 'mass_indexes')\n",
    "\n",
    "\n",
    "risk_of_diabetes = ctrl.Consequent(rd_data, 'risk_of_diabetes')\n",
    "\n"
   ]
  },
  {
   "cell_type": "code",
   "execution_count": 33,
   "id": "0710d404",
   "metadata": {},
   "outputs": [],
   "source": [
    "# Подготовка данных age для отрезков low, medium, high\n",
    "low_data_age = age_data[age_data <= (mean_age)]\n",
    "medium_data_age = age_data[((mean_age - std_age) <= age_data) & (age_data <= (mean_age + std_age))]\n",
    "high_data_age = age_data[age_data >= (mean_age)]"
   ]
  },
  {
   "cell_type": "code",
   "execution_count": 34,
   "id": "38600576",
   "metadata": {},
   "outputs": [],
   "source": [
    "# Подготовка данных blood_sugar_level для отрезков low, medium, high\n",
    "low_data_bsl = bsl_data[bsl_data <= (mean_bsl)]\n",
    "medium_data_bsl = bsl_data[((mean_bsl - std_bsl) <= bsl_data) & (bsl_data <= (mean_bsl + std_bsl))]\n",
    "high_data_bsl = bsl_data[bsl_data >= (mean_bsl)]"
   ]
  },
  {
   "cell_type": "code",
   "execution_count": 35,
   "id": "8f6a9cef",
   "metadata": {},
   "outputs": [],
   "source": [
    "# Подготовка данных amount_of_carbohydrates для отрезков low, medium, high\n",
    "low_data_aoc = aoc_data[aoc_data <= (mean_aoc)]\n",
    "medium_data_aoc = aoc_data[((mean_aoc - std_aoc) <= aoc_data) & (aoc_data <= (mean_aoc + std_aoc))]\n",
    "high_data_aoc = aoc_data[aoc_data >= (mean_aoc)]"
   ]
  },
  {
   "cell_type": "code",
   "execution_count": 36,
   "id": "331b0f2f",
   "metadata": {},
   "outputs": [],
   "source": [
    "# Подготовка данных mass_indexes для отрезков low, medium, high\n",
    "low_data_mi = mi_data[mi_data <= (mean_mi)]\n",
    "medium_data_mi = mi_data[((mean_mi - std_mi) <= mi_data) & (mi_data <= (mean_mi + std_mi))]\n",
    "high_data_mi = mi_data[mi_data >= (mean_mi)]"
   ]
  },
  {
   "cell_type": "code",
   "execution_count": 37,
   "id": "c659331d",
   "metadata": {},
   "outputs": [],
   "source": [
    "# Подготовка данных risk_of_diabetes для отрезков low, medium, high\n",
    "low_data_rd = rd_data[rd_data <= (mean_rd)]\n",
    "medium_data_rd = rd_data[((mean_rd - std_rd) <= rd_data) & (rd_data <= (mean_rd + std_rd))]\n",
    "high_data_rd = rd_data[rd_data >= (mean_rd)]"
   ]
  },
  {
   "cell_type": "code",
   "execution_count": 38,
   "id": "5cae61b1",
   "metadata": {},
   "outputs": [],
   "source": [
    "# Назначение функций принадлежности\n",
    "age['young'] = fuzz.trimf(np.array(age_data),[low_data_age.min(),low_data_age.min(),low_data_age.max()])\n",
    "age['middle']= fuzz.trimf(np.array(age_data),[medium_data_age.min(),medium_data_age.min()+(medium_data_age.max() - medium_data_age.min())/2,medium_data_age.max()])\n",
    "age['old'] = fuzz.trimf(np.array(age_data),[high_data_age.min(),high_data_age.max(),high_data_age.max()])"
   ]
  },
  {
   "cell_type": "code",
   "execution_count": 39,
   "id": "6f7f5c12",
   "metadata": {},
   "outputs": [],
   "source": [
    "# Назначение функций принадлежности для blood_sugar_level\n",
    "blood_sugar_level['low'] = fuzz.trimf(np.array(bsl_data),[low_data_bsl.min(),low_data_bsl.min(),low_data_bsl.max()])\n",
    "blood_sugar_level['middle']= fuzz.trimf(np.array(bsl_data),[medium_data_bsl.min(),medium_data_bsl.min()+(medium_data_bsl.max() - medium_data_bsl.min())/2,medium_data_bsl.max()])\n",
    "blood_sugar_level['high'] = fuzz.trimf(np.array(bsl_data),[high_data_bsl.min(),high_data_bsl.max(),high_data_bsl.max()])"
   ]
  },
  {
   "cell_type": "code",
   "execution_count": 40,
   "id": "7cd9c599",
   "metadata": {},
   "outputs": [],
   "source": [
    "# Назначение функций принадлежности для amount_of_carbohydrates\n",
    "amount_of_carbohydrates['low'] = fuzz.trimf(np.array(aoc_data),[low_data_aoc.min(),low_data_aoc.min(),low_data_aoc.max()])\n",
    "amount_of_carbohydrates['middle']= fuzz.trimf(np.array(aoc_data),[medium_data_aoc.min(),medium_data_aoc.min()+(medium_data_aoc.max() - medium_data_aoc.min())/2,medium_data_aoc.max()])\n",
    "amount_of_carbohydrates['high'] = fuzz.trimf(np.array(aoc_data),[high_data_aoc.min(),high_data_aoc.max(),high_data_aoc.max()])"
   ]
  },
  {
   "cell_type": "code",
   "execution_count": 41,
   "id": "383a9b50",
   "metadata": {},
   "outputs": [],
   "source": [
    "# Назначение функций принадлежности для mass_indexes\n",
    "mass_indexes['low'] = fuzz.trimf(np.array(mi_data),[low_data_mi.min(),low_data_mi.min(),low_data_mi.max()])\n",
    "mass_indexes['middle']= fuzz.trimf(np.array(mi_data),[medium_data_mi.min(),medium_data_mi.min()+(medium_data_mi.max() - medium_data_mi.min())/2,medium_data_mi.max()])\n",
    "mass_indexes['high'] = fuzz.trimf(np.array(mi_data),[high_data_mi.min(),high_data_mi.max(),high_data_mi.max()])"
   ]
  },
  {
   "cell_type": "code",
   "execution_count": 42,
   "id": "57c92e6e",
   "metadata": {},
   "outputs": [],
   "source": [
    "# Назначение функций принадлежности для risk_of_diabetes\n",
    "risk_of_diabetes['low'] = fuzz.trimf(np.array(rd_data),[low_data_rd.min(),low_data_rd.min(),low_data_rd.max()])\n",
    "risk_of_diabetes['middle']= fuzz.trimf(np.array(rd_data),[medium_data_rd.min(),medium_data_rd.min()+(medium_data_rd.max() - medium_data_rd.min())/2,medium_data_rd.max()])\n",
    "risk_of_diabetes['high'] = fuzz.trimf(np.array(rd_data),[high_data_rd.min(),high_data_rd.max(),high_data_rd.max()])"
   ]
  },
  {
   "cell_type": "code",
   "execution_count": 43,
   "id": "856eb468",
   "metadata": {},
   "outputs": [
    {
     "name": "stderr",
     "output_type": "stream",
     "text": [
      "c:\\users\\костя\\appdata\\local\\programs\\python\\python38\\lib\\site-packages\\skfuzzy\\control\\fuzzyvariable.py:122: UserWarning: Matplotlib is currently using module://matplotlib_inline.backend_inline, which is a non-GUI backend, so cannot show the figure.\n",
      "  fig.show()\n"
     ]
    },
    {
     "data": {
      "image/png": "[encoded data removed]",
      "text/plain": [
       "<Figure size 432x288 with 1 Axes>"
      ]
     },
     "metadata": {
      "needs_background": "light"
     },
     "output_type": "display_data"
    }
   ],
   "source": [
    "age.view()"
   ]
  },
  {
   "cell_type": "code",
   "execution_count": 44,
   "id": "6fa4274c",
   "metadata": {},
   "outputs": [
    {
     "name": "stderr",
     "output_type": "stream",
     "text": [
      "c:\\users\\костя\\appdata\\local\\programs\\python\\python38\\lib\\site-packages\\skfuzzy\\control\\fuzzyvariable.py:122: UserWarning: Matplotlib is currently using module://matplotlib_inline.backend_inline, which is a non-GUI backend, so cannot show the figure.\n",
      "  fig.show()\n"
     ]
    },
    {
     "data": {
      "image/png": "[encoded data removed]",
      "text/plain": [
       "<Figure size 432x288 with 1 Axes>"
      ]
     },
     "metadata": {
      "needs_background": "light"
     },
     "output_type": "display_data"
    }
   ],
   "source": [
    "blood_sugar_level.view()"
   ]
  },
  {
   "cell_type": "code",
   "execution_count": 45,
   "id": "c1b0571e",
   "metadata": {},
   "outputs": [
    {
     "name": "stderr",
     "output_type": "stream",
     "text": [
      "c:\\users\\костя\\appdata\\local\\programs\\python\\python38\\lib\\site-packages\\skfuzzy\\control\\fuzzyvariable.py:122: UserWarning: Matplotlib is currently using module://matplotlib_inline.backend_inline, which is a non-GUI backend, so cannot show the figure.\n",
      "  fig.show()\n"
     ]
    },
    {
     "data": {
      "image/png": "[encoded data removed]",
      "text/plain": [
       "<Figure size 432x288 with 1 Axes>"
      ]
     },
     "metadata": {
      "needs_background": "light"
     },
     "output_type": "display_data"
    }
   ],
   "source": [
    "amount_of_carbohydrates.view()\n"
   ]
  },
  {
   "cell_type": "code",
   "execution_count": 46,
   "id": "d0317b8a",
   "metadata": {},
   "outputs": [
    {
     "name": "stderr",
     "output_type": "stream",
     "text": [
      "c:\\users\\костя\\appdata\\local\\programs\\python\\python38\\lib\\site-packages\\skfuzzy\\control\\fuzzyvariable.py:122: UserWarning: Matplotlib is currently using module://matplotlib_inline.backend_inline, which is a non-GUI backend, so cannot show the figure.\n",
      "  fig.show()\n"
     ]
    },
    {
     "data": {
      "image/png": "[encoded data removed]",
      "text/plain": [
       "<Figure size 432x288 with 1 Axes>"
      ]
     },
     "metadata": {
      "needs_background": "light"
     },
     "output_type": "display_data"
    }
   ],
   "source": [
    "mass_indexes.view()"
   ]
  },
  {
   "cell_type": "code",
   "execution_count": 47,
   "id": "e436798d",
   "metadata": {},
   "outputs": [
    {
     "name": "stderr",
     "output_type": "stream",
     "text": [
      "c:\\users\\костя\\appdata\\local\\programs\\python\\python38\\lib\\site-packages\\skfuzzy\\control\\fuzzyvariable.py:122: UserWarning: Matplotlib is currently using module://matplotlib_inline.backend_inline, which is a non-GUI backend, so cannot show the figure.\n",
      "  fig.show()\n"
     ]
    },
    {
     "data": {
      "image/png": "[encoded data removed]",
      "text/plain": [
       "<Figure size 432x288 with 1 Axes>"
      ]
     },
     "metadata": {
      "needs_background": "light"
     },
     "output_type": "display_data"
    }
   ],
   "source": [
    "risk_of_diabetes.view()"
   ]
  },
  {
   "cell_type": "code",
   "execution_count": 48,
   "id": "219de2b3",
   "metadata": {},
   "outputs": [],
   "source": [
    "rules = [\n",
    "    ctrl.Rule(blood_sugar_level['high'], risk_of_diabetes['high']),\n",
    "    ctrl.Rule(mass_indexes['high'], risk_of_diabetes['high']),\n",
    "    ctrl.Rule((age['young'] | age['old']) & amount_of_carbohydrates['high'], risk_of_diabetes['high']),\n",
    "    ctrl.Rule(\n",
    "        (blood_sugar_level['low'] | blood_sugar_level['middle']) & \n",
    "        (mass_indexes['low'] | mass_indexes['middle']) & \n",
    "        (age['young'] | age['old']) &\n",
    "        (amount_of_carbohydrates['low'] | amount_of_carbohydrates['middle']), \n",
    "        risk_of_diabetes['middle']\n",
    "    ),\n",
    "    ctrl.Rule(\n",
    "        (blood_sugar_level['low'] | blood_sugar_level['middle']) & \n",
    "        (mass_indexes['low'] | mass_indexes['middle']) & \n",
    "        age['middle'] &\n",
    "        (amount_of_carbohydrates['low'] | amount_of_carbohydrates['middle']),\n",
    "        risk_of_diabetes['low']\n",
    "    ),\n",
    "]"
   ]
  },
  {
   "cell_type": "code",
   "execution_count": 49,
   "id": "de585f36",
   "metadata": {},
   "outputs": [],
   "source": [
    "diabet_risk_ctrl = ctrl.ControlSystem(rules)\n",
    "diabet_risk = ctrl.ControlSystemSimulation(diabet_risk_ctrl)"
   ]
  },
  {
   "cell_type": "code",
   "execution_count": 50,
   "id": "0ee764d7",
   "metadata": {},
   "outputs": [],
   "source": [
    "# Pass inputs to the ControlSystem using Antecedent labels with Pythonic API\n",
    "# Note: if you like passing many inputs all at once, use .inputs(dict_of_data)\n",
    "diabet_risk.input['blood_sugar_level'] = 5.5\n",
    "diabet_risk.input['mass_indexes'] = 31.7\n",
    "diabet_risk.input['age'] = 15\n",
    "diabet_risk.input['amount_of_carbohydrates'] = 0.56\n",
    "\n",
    "# Crunch the numbers\n",
    "diabet_risk.compute()"
   ]
  },
  {
   "cell_type": "code",
   "execution_count": 51,
   "id": "b2053138",
   "metadata": {},
   "outputs": [
    {
     "name": "stdout",
     "output_type": "stream",
     "text": [
      "83.09628571428571\n"
     ]
    },
    {
     "name": "stderr",
     "output_type": "stream",
     "text": [
      "c:\\users\\костя\\appdata\\local\\programs\\python\\python38\\lib\\site-packages\\skfuzzy\\control\\fuzzyvariable.py:122: UserWarning: Matplotlib is currently using module://matplotlib_inline.backend_inline, which is a non-GUI backend, so cannot show the figure.\n",
      "  fig.show()\n"
     ]
    },
    {
     "data": {
      "image/png": "[encoded data removed]",
      "text/plain": [
       "<Figure size 432x288 with 1 Axes>"
      ]
     },
     "metadata": {
      "needs_background": "light"
     },
     "output_type": "display_data"
    }
   ],
   "source": [
    "print(diabet_risk.output['risk_of_diabetes'])\n",
    "risk_of_diabetes.view(sim=diabet_risk)"
   ]
  },
  {
   "cell_type": "code",
   "execution_count": null,
   "id": "6e6fe8ee",
   "metadata": {},
   "outputs": [],
   "source": []
  }
 ],
 "metadata": {
  "kernelspec": {
   "display_name": "Python 3 (ipykernel)",
   "language": "python",
   "name": "python3"
  },
  "language_info": {
   "codemirror_mode": {
    "name": "ipython",
    "version": 3
   },
   "file_extension": ".py",
   "mimetype": "text/x-python",
   "name": "python",
   "nbconvert_exporter": "python",
   "pygments_lexer": "ipython3",
   "version": "3.8.6"
  }
 },
 "nbformat": 4,
 "nbformat_minor": 5
}
