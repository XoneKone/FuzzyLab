{
 "cells": [
  {
   "cell_type": "code",
   "execution_count": 1,
   "id": "fc4640ba",
   "metadata": {},
   "outputs": [],
   "source": [
    "import numpy as np\n",
    "import skfuzzy as fuzz\n",
    "import pandas as pd\n",
    "import sqlite3 \n",
    "from skfuzzy import control as ctrl"
   ]
  },
  {
   "cell_type": "code",
   "execution_count": 3,
   "id": "dd13077a",
   "metadata": {},
   "outputs": [],
   "source": [
    "data = pd.read_csv('data.csv', delimiter=',')"
   ]
  },
  {
   "cell_type": "code",
   "execution_count": 4,
   "id": "a69ed3f1",
   "metadata": {},
   "outputs": [
    {
     "data": {
      "text/html": [
       "<div>\n",
       "<style scoped>\n",
       "    .dataframe tbody tr th:only-of-type {\n",
       "        vertical-align: middle;\n",
       "    }\n",
       "\n",
       "    .dataframe tbody tr th {\n",
       "        vertical-align: top;\n",
       "    }\n",
       "\n",
       "    .dataframe thead th {\n",
       "        text-align: right;\n",
       "    }\n",
       "</style>\n",
       "<table border=\"1\" class=\"dataframe\">\n",
       "  <thead>\n",
       "    <tr style=\"text-align: right;\">\n",
       "      <th></th>\n",
       "      <th>age</th>\n",
       "      <th>blood_sugar_level</th>\n",
       "      <th>amount_of_carbohydrates</th>\n",
       "      <th>mass_indexes</th>\n",
       "    </tr>\n",
       "  </thead>\n",
       "  <tbody>\n",
       "    <tr>\n",
       "      <th>0</th>\n",
       "      <td>6.0</td>\n",
       "      <td>5.00</td>\n",
       "      <td>0.44</td>\n",
       "      <td>20.23</td>\n",
       "    </tr>\n",
       "    <tr>\n",
       "      <th>1</th>\n",
       "      <td>10.0</td>\n",
       "      <td>6.23</td>\n",
       "      <td>0.23</td>\n",
       "      <td>34.47</td>\n",
       "    </tr>\n",
       "    <tr>\n",
       "      <th>2</th>\n",
       "      <td>12.0</td>\n",
       "      <td>3.90</td>\n",
       "      <td>0.36</td>\n",
       "      <td>23.65</td>\n",
       "    </tr>\n",
       "    <tr>\n",
       "      <th>3</th>\n",
       "      <td>17.0</td>\n",
       "      <td>5.34</td>\n",
       "      <td>0.67</td>\n",
       "      <td>13.46</td>\n",
       "    </tr>\n",
       "    <tr>\n",
       "      <th>4</th>\n",
       "      <td>20.0</td>\n",
       "      <td>4.24</td>\n",
       "      <td>0.11</td>\n",
       "      <td>27.32</td>\n",
       "    </tr>\n",
       "    <tr>\n",
       "      <th>5</th>\n",
       "      <td>30.0</td>\n",
       "      <td>6.66</td>\n",
       "      <td>0.76</td>\n",
       "      <td>34.37</td>\n",
       "    </tr>\n",
       "    <tr>\n",
       "      <th>6</th>\n",
       "      <td>35.0</td>\n",
       "      <td>4.79</td>\n",
       "      <td>0.08</td>\n",
       "      <td>38.32</td>\n",
       "    </tr>\n",
       "    <tr>\n",
       "      <th>7</th>\n",
       "      <td>42.0</td>\n",
       "      <td>5.24</td>\n",
       "      <td>0.91</td>\n",
       "      <td>22.37</td>\n",
       "    </tr>\n",
       "    <tr>\n",
       "      <th>8</th>\n",
       "      <td>50.0</td>\n",
       "      <td>2.57</td>\n",
       "      <td>0.55</td>\n",
       "      <td>24.35</td>\n",
       "    </tr>\n",
       "    <tr>\n",
       "      <th>9</th>\n",
       "      <td>61.0</td>\n",
       "      <td>3.02</td>\n",
       "      <td>0.18</td>\n",
       "      <td>55.00</td>\n",
       "    </tr>\n",
       "    <tr>\n",
       "      <th>10</th>\n",
       "      <td>15.0</td>\n",
       "      <td>1.20</td>\n",
       "      <td>0.11</td>\n",
       "      <td>50.00</td>\n",
       "    </tr>\n",
       "    <tr>\n",
       "      <th>11</th>\n",
       "      <td>40.0</td>\n",
       "      <td>1.87</td>\n",
       "      <td>0.04</td>\n",
       "      <td>36.29</td>\n",
       "    </tr>\n",
       "    <tr>\n",
       "      <th>12</th>\n",
       "      <td>65.0</td>\n",
       "      <td>3.97</td>\n",
       "      <td>0.19</td>\n",
       "      <td>49.82</td>\n",
       "    </tr>\n",
       "    <tr>\n",
       "      <th>13</th>\n",
       "      <td>31.0</td>\n",
       "      <td>2.20</td>\n",
       "      <td>0.55</td>\n",
       "      <td>29.11</td>\n",
       "    </tr>\n",
       "    <tr>\n",
       "      <th>14</th>\n",
       "      <td>59.0</td>\n",
       "      <td>3.59</td>\n",
       "      <td>0.70</td>\n",
       "      <td>34.12</td>\n",
       "    </tr>\n",
       "    <tr>\n",
       "      <th>15</th>\n",
       "      <td>26.0</td>\n",
       "      <td>4.76</td>\n",
       "      <td>0.40</td>\n",
       "      <td>29.40</td>\n",
       "    </tr>\n",
       "    <tr>\n",
       "      <th>16</th>\n",
       "      <td>31.0</td>\n",
       "      <td>4.34</td>\n",
       "      <td>0.03</td>\n",
       "      <td>46.18</td>\n",
       "    </tr>\n",
       "    <tr>\n",
       "      <th>17</th>\n",
       "      <td>38.0</td>\n",
       "      <td>4.41</td>\n",
       "      <td>0.57</td>\n",
       "      <td>32.42</td>\n",
       "    </tr>\n",
       "    <tr>\n",
       "      <th>18</th>\n",
       "      <td>23.0</td>\n",
       "      <td>4.12</td>\n",
       "      <td>0.96</td>\n",
       "      <td>43.48</td>\n",
       "    </tr>\n",
       "    <tr>\n",
       "      <th>19</th>\n",
       "      <td>33.0</td>\n",
       "      <td>2.03</td>\n",
       "      <td>0.34</td>\n",
       "      <td>47.88</td>\n",
       "    </tr>\n",
       "    <tr>\n",
       "      <th>20</th>\n",
       "      <td>53.0</td>\n",
       "      <td>3.76</td>\n",
       "      <td>0.87</td>\n",
       "      <td>38.18</td>\n",
       "    </tr>\n",
       "    <tr>\n",
       "      <th>21</th>\n",
       "      <td>55.0</td>\n",
       "      <td>3.70</td>\n",
       "      <td>0.22</td>\n",
       "      <td>46.01</td>\n",
       "    </tr>\n",
       "    <tr>\n",
       "      <th>22</th>\n",
       "      <td>11.0</td>\n",
       "      <td>2.61</td>\n",
       "      <td>0.31</td>\n",
       "      <td>30.69</td>\n",
       "    </tr>\n",
       "    <tr>\n",
       "      <th>23</th>\n",
       "      <td>51.0</td>\n",
       "      <td>2.54</td>\n",
       "      <td>0.19</td>\n",
       "      <td>35.52</td>\n",
       "    </tr>\n",
       "    <tr>\n",
       "      <th>24</th>\n",
       "      <td>35.0</td>\n",
       "      <td>4.23</td>\n",
       "      <td>0.01</td>\n",
       "      <td>21.35</td>\n",
       "    </tr>\n",
       "    <tr>\n",
       "      <th>25</th>\n",
       "      <td>82.0</td>\n",
       "      <td>2.43</td>\n",
       "      <td>0.67</td>\n",
       "      <td>29.06</td>\n",
       "    </tr>\n",
       "    <tr>\n",
       "      <th>26</th>\n",
       "      <td>49.0</td>\n",
       "      <td>3.32</td>\n",
       "      <td>0.82</td>\n",
       "      <td>34.30</td>\n",
       "    </tr>\n",
       "    <tr>\n",
       "      <th>27</th>\n",
       "      <td>22.0</td>\n",
       "      <td>2.27</td>\n",
       "      <td>0.07</td>\n",
       "      <td>25.63</td>\n",
       "    </tr>\n",
       "    <tr>\n",
       "      <th>28</th>\n",
       "      <td>30.0</td>\n",
       "      <td>4.14</td>\n",
       "      <td>0.03</td>\n",
       "      <td>46.52</td>\n",
       "    </tr>\n",
       "    <tr>\n",
       "      <th>29</th>\n",
       "      <td>29.0</td>\n",
       "      <td>3.89</td>\n",
       "      <td>0.25</td>\n",
       "      <td>39.27</td>\n",
       "    </tr>\n",
       "    <tr>\n",
       "      <th>30</th>\n",
       "      <td>24.0</td>\n",
       "      <td>3.70</td>\n",
       "      <td>0.32</td>\n",
       "      <td>36.94</td>\n",
       "    </tr>\n",
       "  </tbody>\n",
       "</table>\n",
       "</div>"
      ],
      "text/plain": [
       "     age  blood_sugar_level  amount_of_carbohydrates  mass_indexes\n",
       "0    6.0               5.00                     0.44         20.23\n",
       "1   10.0               6.23                     0.23         34.47\n",
       "2   12.0               3.90                     0.36         23.65\n",
       "3   17.0               5.34                     0.67         13.46\n",
       "4   20.0               4.24                     0.11         27.32\n",
       "5   30.0               6.66                     0.76         34.37\n",
       "6   35.0               4.79                     0.08         38.32\n",
       "7   42.0               5.24                     0.91         22.37\n",
       "8   50.0               2.57                     0.55         24.35\n",
       "9   61.0               3.02                     0.18         55.00\n",
       "10  15.0               1.20                     0.11         50.00\n",
       "11  40.0               1.87                     0.04         36.29\n",
       "12  65.0               3.97                     0.19         49.82\n",
       "13  31.0               2.20                     0.55         29.11\n",
       "14  59.0               3.59                     0.70         34.12\n",
       "15  26.0               4.76                     0.40         29.40\n",
       "16  31.0               4.34                     0.03         46.18\n",
       "17  38.0               4.41                     0.57         32.42\n",
       "18  23.0               4.12                     0.96         43.48\n",
       "19  33.0               2.03                     0.34         47.88\n",
       "20  53.0               3.76                     0.87         38.18\n",
       "21  55.0               3.70                     0.22         46.01\n",
       "22  11.0               2.61                     0.31         30.69\n",
       "23  51.0               2.54                     0.19         35.52\n",
       "24  35.0               4.23                     0.01         21.35\n",
       "25  82.0               2.43                     0.67         29.06\n",
       "26  49.0               3.32                     0.82         34.30\n",
       "27  22.0               2.27                     0.07         25.63\n",
       "28  30.0               4.14                     0.03         46.52\n",
       "29  29.0               3.89                     0.25         39.27\n",
       "30  24.0               3.70                     0.32         36.94"
      ]
     },
     "execution_count": 4,
     "metadata": {},
     "output_type": "execute_result"
    }
   ],
   "source": [
    "data"
   ]
  },
  {
   "cell_type": "code",
   "execution_count": 5,
   "id": "0cafae94",
   "metadata": {
    "scrolled": true
   },
   "outputs": [],
   "source": [
    "# Среднее значение для каждого из столбцов\n",
    "mean_age = data['age'].mean()\n",
    "mean_bsl = data['blood_sugar_level'].mean()\n",
    "mean_aoc = data['amount_of_carbohydrates'].mean()\n",
    "mean_mi = data['mass_indexes'].mean()"
   ]
  },
  {
   "cell_type": "code",
   "execution_count": 33,
   "id": "4a363d90",
   "metadata": {},
   "outputs": [],
   "source": [
    "#Стандартное отклонение для каждого из столбцов\n",
    "std_age = data['age'].std()\n",
    "std_bsl = data['blood_sugar_level'].std()\n",
    "std_aoc = data['amount_of_carbohydrates'].std()\n",
    "std_mi = data['mass_indexes'].std()"
   ]
  },
  {
   "cell_type": "code",
   "execution_count": 34,
   "id": "3f98ab85",
   "metadata": {},
   "outputs": [],
   "source": [
    "age_data = pd.Series(data['age'].sort_values().tolist())\n",
    "bcl_data = pd.Series(data['age'].sort_values().tolist())\n",
    "aoc_data = pd.Series(data['age'].sort_values().tolist())\n",
    "mi_data = pd.Series(data['age'].sort_values().tolist())"
   ]
  },
  {
   "cell_type": "code",
   "execution_count": 35,
   "id": "f44cfc86",
   "metadata": {},
   "outputs": [],
   "source": [
    "age = ctrl.Antecedent(age_data, 'age')\n",
    "\n",
    "blood_sugar_level = ctrl.Antecedent(bcl_data, 'blood_sugar_level')\n",
    "\n",
    "amount_of_carbohydrates = ctrl.Antecedent(aoc_data, 'amount_of_carbohydrates')\n",
    "\n",
    "mass_indexes= ctrl.Antecedent(mi_data, 'mass_indexes')\n",
    "\n",
    "\n",
    "risk_of_diabetes = ctrl.Consequent(np.arange(0, 101, 1), 'risk_of_diabetes')\n",
    "\n"
   ]
  },
  {
   "cell_type": "code",
   "execution_count": 73,
   "id": "54db7382",
   "metadata": {},
   "outputs": [],
   "source": [
    "# Подготовка данных age для отрезков low, medium, high\n",
    "low_data_age = age_data[age_data <= (mean_age)]\n",
    "medium_data_age = age_data[((mean_age -std_age) <= age_data) & (age_data <= (mean_age + std_age))]\n",
    "high_data_age = age_data[age_data >= (mean_age)]"
   ]
  },
  {
   "cell_type": "code",
   "execution_count": 10,
   "id": "bb1fbc22",
   "metadata": {},
   "outputs": [],
   "source": [
    "# Подготовка данных blood_sugar_level для отрезков low, medium, high\n",
    "low_data_bcl = bcl_data[bcl_data < (mean_bsl - std_bsl)]\n",
    "medium_data_bcl = bcl_data[((mean_bsl - std_bsl) <= bcl_data) & (bcl_data < (mean_bsl + std_bsl))]\n",
    "high_data_bcl = bcl_data[bcl_data >= (mean_bsl + std_bsl)]"
   ]
  },
  {
   "cell_type": "code",
   "execution_count": 11,
   "id": "f5a77ae8",
   "metadata": {},
   "outputs": [],
   "source": [
    "# Подготовка данных amount_of_carbohydrates для отрезков low, medium, high\n",
    "low_data_aoc = aoc_data[aoc_data < (mean_aoc - std_aoc)]\n",
    "medium_data_aoc = aoc_data[((mean_aoc - std_aoc) <= aoc_data) & (aoc_data < (mean_aoc + std_aoc))]\n",
    "high_data_a = aoc_data[aoc_data >= (mean_aoc + std_aoc)]"
   ]
  },
  {
   "cell_type": "code",
   "execution_count": 12,
   "id": "1c2b1eee",
   "metadata": {},
   "outputs": [],
   "source": [
    "# Подготовка данных mass_indexes для отрезков low, medium, high\n",
    "low_data_mi = mi_data[mi_data < (mean_mi - std_mi)]\n",
    "medium_data_mi = mi_data[((mean_mi - std_mi) <= mi_data) & (mi_data < (mean_mi + std_mi))]\n",
    "high_data_mi = mi_data[mi_data >= (mean_mi + std_mi)]"
   ]
  },
  {
   "cell_type": "code",
   "execution_count": 80,
   "id": "5cae61b1",
   "metadata": {},
   "outputs": [],
   "source": [
    "# Назначение функций принадлежности\n",
    "age['young'] = fuzz.trimf(np.array(age_data),[low_data_age.min(),low_data_age.min(),low_data_age.max()])\n",
    "age['middle']= fuzz.trimf(np.array(age_data),[medium_data_age.min(),medium_data_age[medium_data_age.idxmin() + int((medium_data_age.idxmax() - medium_data_age.idxmin())/2)],medium_data_age.max()])\n",
    "age['old'] = fuzz.trimf(np.array(age_data),[high_data_age.min(),high_data_age.max(),high_data_age.max()])"
   ]
  },
  {
   "cell_type": "code",
   "execution_count": 77,
   "id": "494c62a3",
   "metadata": {},
   "outputs": [
    {
     "data": {
      "text/plain": [
       "17    35.0\n",
       "18    35.0\n",
       "19    38.0\n",
       "20    40.0\n",
       "21    42.0\n",
       "22    49.0\n",
       "23    50.0\n",
       "24    51.0\n",
       "25    53.0\n",
       "26    55.0\n",
       "27    59.0\n",
       "28    61.0\n",
       "29    65.0\n",
       "30    82.0\n",
       "dtype: float64"
      ]
     },
     "execution_count": 77,
     "metadata": {},
     "output_type": "execute_result"
    }
   ],
   "source": [
    "medium_data_age.idxmin() + int((medium_data_age.idxmax() -medium_data_age.idxmin())/2)\n",
    "high_data_age"
   ]
  },
  {
   "cell_type": "code",
   "execution_count": 81,
   "id": "65c19570",
   "metadata": {},
   "outputs": [
    {
     "name": "stderr",
     "output_type": "stream",
     "text": [
      "c:\\users\\костя\\appdata\\local\\programs\\python\\python38\\lib\\site-packages\\skfuzzy\\control\\term.py:74: UserWarning: Matplotlib is currently using module://matplotlib_inline.backend_inline, which is a non-GUI backend, so cannot show the figure.\n",
      "  fig.show()\n"
     ]
    },
    {
     "data": {
      "image/png": "[encoded data removed]",
      "text/plain": [
       "<Figure size 432x288 with 1 Axes>"
      ]
     },
     "metadata": {
      "needs_background": "light"
     },
     "output_type": "display_data"
    }
   ],
   "source": [
    "age['old'].view()"
   ]
  },
  {
   "cell_type": "code",
   "execution_count": 5,
   "id": "6fa4274c",
   "metadata": {},
   "outputs": [
    {
     "name": "stderr",
     "output_type": "stream",
     "text": [
      "c:\\users\\костя\\appdata\\local\\programs\\python\\python38\\lib\\site-packages\\skfuzzy\\control\\term.py:74: UserWarning: Matplotlib is currently using module://matplotlib_inline.backend_inline, which is a non-GUI backend, so cannot show the figure.\n",
      "  fig.show()\n"
     ]
    },
    {
     "data": {
      "image/png": "[encoded data removed]",
      "text/plain": [
       "<Figure size 432x288 with 1 Axes>"
      ]
     },
     "metadata": {
      "needs_background": "light"
     },
     "output_type": "display_data"
    }
   ],
   "source": [
    "# You can see how these look with .view()\n",
    "quality['average'].view()"
   ]
  },
  {
   "cell_type": "code",
   "execution_count": 6,
   "id": "c1b0571e",
   "metadata": {},
   "outputs": [
    {
     "name": "stderr",
     "output_type": "stream",
     "text": [
      "c:\\users\\костя\\appdata\\local\\programs\\python\\python38\\lib\\site-packages\\skfuzzy\\control\\fuzzyvariable.py:122: UserWarning: Matplotlib is currently using module://matplotlib_inline.backend_inline, which is a non-GUI backend, so cannot show the figure.\n",
      "  fig.show()\n"
     ]
    },
    {
     "data": {
      "image/png": "[encoded data removed]",
      "text/plain": [
       "<Figure size 432x288 with 1 Axes>"
      ]
     },
     "metadata": {
      "needs_background": "light"
     },
     "output_type": "display_data"
    }
   ],
   "source": [
    "service.view()"
   ]
  },
  {
   "cell_type": "code",
   "execution_count": 7,
   "id": "d0317b8a",
   "metadata": {},
   "outputs": [
    {
     "name": "stderr",
     "output_type": "stream",
     "text": [
      "c:\\users\\костя\\appdata\\local\\programs\\python\\python38\\lib\\site-packages\\skfuzzy\\control\\fuzzyvariable.py:122: UserWarning: Matplotlib is currently using module://matplotlib_inline.backend_inline, which is a non-GUI backend, so cannot show the figure.\n",
      "  fig.show()\n"
     ]
    },
    {
     "data": {
      "image/png": "[encoded data removed]",
      "text/plain": [
       "<Figure size 432x288 with 1 Axes>"
      ]
     },
     "metadata": {
      "needs_background": "light"
     },
     "output_type": "display_data"
    }
   ],
   "source": [
    "tip.view()"
   ]
  },
  {
   "cell_type": "code",
   "execution_count": 8,
   "id": "8cc6f383",
   "metadata": {},
   "outputs": [],
   "source": [
    "rule1 = ctrl.Rule(quality['poor'] | service['poor'], tip['low'])\n",
    "rule2 = ctrl.Rule(service['average'], tip['medium'])\n",
    "rule3 = ctrl.Rule(service['good'] | quality['good'], tip['high'])"
   ]
  },
  {
   "cell_type": "code",
   "execution_count": 9,
   "id": "6d62ea81",
   "metadata": {},
   "outputs": [
    {
     "data": {
      "text/plain": [
       "(<Figure size 432x288 with 1 Axes>, <AxesSubplot:>)"
      ]
     },
     "execution_count": 9,
     "metadata": {},
     "output_type": "execute_result"
    },
    {
     "data": {
      "image/png": "[encoded data removed]",
      "text/plain": [
       "<Figure size 432x288 with 1 Axes>"
      ]
     },
     "metadata": {},
     "output_type": "display_data"
    }
   ],
   "source": [
    "rule1.view()\n"
   ]
  },
  {
   "cell_type": "code",
   "execution_count": 10,
   "id": "7f9bd84b",
   "metadata": {},
   "outputs": [],
   "source": [
    "tipping_ctrl = ctrl.ControlSystem([rule1, rule2, rule3])\n"
   ]
  },
  {
   "cell_type": "code",
   "execution_count": 11,
   "id": "ac4c3733",
   "metadata": {},
   "outputs": [],
   "source": [
    "tipping = ctrl.ControlSystemSimulation(tipping_ctrl)\n"
   ]
  },
  {
   "cell_type": "code",
   "execution_count": 12,
   "id": "291c9a0c",
   "metadata": {},
   "outputs": [],
   "source": [
    "# Pass inputs to the ControlSystem using Antecedent labels with Pythonic API\n",
    "# Note: if you like passing many inputs all at once, use .inputs(dict_of_data)\n",
    "tipping.input['quality'] = 6.5\n",
    "tipping.input['service'] = 9.8\n",
    "\n",
    "# Crunch the numbers\n",
    "tipping.compute()"
   ]
  },
  {
   "cell_type": "code",
   "execution_count": 13,
   "id": "fec74354",
   "metadata": {},
   "outputs": [
    {
     "name": "stdout",
     "output_type": "stream",
     "text": [
      "19.847607361963192\n"
     ]
    },
    {
     "name": "stderr",
     "output_type": "stream",
     "text": [
      "c:\\users\\костя\\appdata\\local\\programs\\python\\python38\\lib\\site-packages\\skfuzzy\\control\\fuzzyvariable.py:122: UserWarning: Matplotlib is currently using module://matplotlib_inline.backend_inline, which is a non-GUI backend, so cannot show the figure.\n",
      "  fig.show()\n"
     ]
    },
    {
     "data": {
      "image/png": "[encoded data removed]",
      "text/plain": [
       "<Figure size 432x288 with 1 Axes>"
      ]
     },
     "metadata": {
      "needs_background": "light"
     },
     "output_type": "display_data"
    }
   ],
   "source": [
    "print(tipping.output['tip'])\n",
    "tip.view(sim=tipping)"
   ]
  },
  {
   "cell_type": "code",
   "execution_count": null,
   "id": "219de2b3",
   "metadata": {},
   "outputs": [],
   "source": []
  }
 ],
 "metadata": {
  "kernelspec": {
   "display_name": "Python 3 (ipykernel)",
   "language": "python",
   "name": "python3"
  },
  "language_info": {
   "codemirror_mode": {
    "name": "ipython",
    "version": 3
   },
   "file_extension": ".py",
   "mimetype": "text/x-python",
   "name": "python",
   "nbconvert_exporter": "python",
   "pygments_lexer": "ipython3",
   "version": "3.8.6"
  }
 },
 "nbformat": 4,
 "nbformat_minor": 5
}
